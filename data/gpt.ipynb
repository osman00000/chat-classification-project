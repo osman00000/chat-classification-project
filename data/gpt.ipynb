{
 "cells": [
  {
   "cell_type": "code",
   "execution_count": 1,
   "id": "d8c01b7c-6dbf-46d4-aa54-e814490684f0",
   "metadata": {},
   "outputs": [],
   "source": [
    "import os\n",
    "from openai import OpenAI"
   ]
  },
  {
   "cell_type": "code",
   "execution_count": 2,
   "id": "9c7acaee-4fa9-4ca7-b4ce-85c4af5a19a0",
   "metadata": {},
   "outputs": [],
   "source": [
    "import datetime\n",
    "import json"
   ]
  },
  {
   "cell_type": "code",
   "execution_count": 3,
   "id": "9e5ede84-ac3d-434e-af88-ce442554f360",
   "metadata": {
    "tags": []
   },
   "outputs": [],
   "source": [
    "# KEY NEEDS TO BE DEFINED AS AN ENV\n",
    "# OR DEFINE IT HERE\n",
    "# OPENAI_API_KEY = \"KEY HERE\"\n",
    "# os.environ[\"OPENAI_API_KEY\"] = OPENAI_API_KEY"
   ]
  },
  {
   "cell_type": "code",
   "execution_count": 4,
   "id": "b92cba4a-200c-464a-8350-b6afc395187d",
   "metadata": {
    "tags": []
   },
   "outputs": [],
   "source": [
    "client_openai = OpenAI()"
   ]
  },
  {
   "cell_type": "code",
   "execution_count": 5,
   "id": "20d4dd7d-1972-46d7-a3b9-1a10f6437e61",
   "metadata": {
    "tags": []
   },
   "outputs": [],
   "source": [
    "from httpx import ConnectTimeout, Timeout\n",
    "NUM_TRIES = 3\n",
    "TIMEOUT = 20\n",
    "\n",
    "\n",
    "def llm_wrapper(\n",
    "    model_name, \n",
    "    messages,\n",
    "    response_format=None\n",
    "):\n",
    "\n",
    "    n = 1\n",
    "    while n<NUM_TRIES:\n",
    "        try:\n",
    "\n",
    "            # messages = [\n",
    "            #     {'role': 'system', 'content': system_prompt},\n",
    "            #     {'role': 'user', 'content': user_message},\n",
    "            # ]\n",
    "            response = client_openai.beta.chat.completions.parse(\n",
    "                model=model_name,\n",
    "                temperature=1.,\n",
    "                top_p=1.,\n",
    "                messages=messages,\n",
    "                response_format=response_format\n",
    "            )    \n",
    "\n",
    "            if response_format is None:\n",
    "                return response.choices[0].message.content #, prompt_tokens, completion_tokens\n",
    "            else:\n",
    "                return response.choices[0].message.parsed.json()\n",
    "        except ConnectTimeout:\n",
    "            n += 1\n",
    "    \n",
    "    raise Exception(f\"Couldn't get response from OpenAI in {NUM_TRIES} trials!\")"
   ]
  },
  {
   "cell_type": "code",
   "execution_count": null,
   "id": "e9e49dfc-7a98-4e79-a8cb-1ffab5acbfac",
   "metadata": {},
   "outputs": [],
   "source": []
  },
  {
   "cell_type": "code",
   "execution_count": 6,
   "id": "2c19ee48-d746-48f1-9404-3723f61c6186",
   "metadata": {
    "tags": []
   },
   "outputs": [],
   "source": [
    "CUSTOMER_PROMPT_BASE = \"\"\"You are a Customer who will converse with a Sales Rep.\n",
    "You are looking to buy the product {product_name}.\n",
    "\n",
    "FOLLOW THESE INSTRUCTIONS DURING THE CONVERSATION:\n",
    "- Initially just Greet the sales rep.\n",
    "- Then state your intent and gradually ask questions to make a decision to buy.\n",
    "- After you think you get the adequate information you can proceed to buy the product or not.\n",
    "- YOU ARE THE CUSTOMER NOT THE SALES REP.\n",
    "\"\"\"\n",
    "\n",
    "SALES_REP_PROMPT_BASE = \"\"\"You are a Sales Rep helping customers about their questions.\n",
    "\n",
    "FOLLOW THESE INSTRUCTIONS DURING THE CONVERSATION:\n",
    "- You are helpful.\n",
    "- You simulate spoken conversation. Do not generate structured text.\n",
    "- YOU ARE THE SALES REP NOT THE CUSTOMER.\n",
    "\"\"\"\n"
   ]
  },
  {
   "cell_type": "code",
   "execution_count": 7,
   "id": "41012f66-61cf-482d-aba0-8035bf96358d",
   "metadata": {
    "tags": []
   },
   "outputs": [],
   "source": [
    "exit_tool = [\n",
    "  {\n",
    "      \"type\": \"function\",\n",
    "      \"function\": {\n",
    "          \"name\": \"buy_decision\",\n",
    "          \"description\": \"Call this function when you think you have gained all information you need from the conversation and would like to buy or not.\",\n",
    "          \"parameters\": {\n",
    "              \"type\": \"object\",\n",
    "              \"properties\": {\n",
    "                 \"decision\": {\n",
    "                    \"enum\": [\"buy\", \"not_buy\"],\n",
    "                    \"type\": \"string\",\n",
    "                    \"description\": \"you decision about the product\",\n",
    "                },\n",
    "              },\n",
    "              \"required\": [\"decision\"],\n",
    "              \"additionalProperties\": False,\n",
    "          },\n",
    "      }\n",
    "  }\n",
    "]"
   ]
  },
  {
   "cell_type": "code",
   "execution_count": 8,
   "id": "cf57407c-7531-4fdb-9c25-fe08074708c7",
   "metadata": {
    "tags": []
   },
   "outputs": [],
   "source": [
    "def message_history_converter(message_history):\n",
    "    converted_history = []\n",
    "    for m in message_history:\n",
    "        if m[\"role\"] != \"system\":\n",
    "            converted_history.append(\n",
    "                {\n",
    "                    \"role\": \"user\" if m[\"role\"] == \"assistant\" else \"assistant\",\n",
    "                    \"content\": m[\"content\"],\n",
    "                }\n",
    "            )\n",
    "    return converted_history"
   ]
  },
  {
   "cell_type": "code",
   "execution_count": 9,
   "id": "c602d905-8418-4057-90c5-265982b91248",
   "metadata": {
    "tags": []
   },
   "outputs": [],
   "source": [
    "model_name = 'gpt-4o-mini'\n",
    "temperature = 1.0\n",
    "top_p=1.0"
   ]
  },
  {
   "cell_type": "code",
   "execution_count": 10,
   "id": "761e4ca9-591b-448d-9ab6-3ad651dd565c",
   "metadata": {},
   "outputs": [],
   "source": [
    "# Prompt customization\n",
    "PRODUCT_NAME = \"iphone 14\"\n",
    "CUSTOMER_PROMPT = CUSTOMER_PROMPT_BASE.format(product_name=PRODUCT_NAME)\n",
    "SALES_REP_PROMPT = SALES_REP_PROMPT_BASE"
   ]
  },
  {
   "cell_type": "code",
   "execution_count": 14,
   "id": "2c7d9f4f-b089-41f6-9cbe-0774011d6185",
   "metadata": {
    "tags": []
   },
   "outputs": [
    {
     "name": "stdout",
     "output_type": "stream",
     "text": [
      "Round: 0\n",
      "Round: 1\n",
      "Round: 2\n",
      "Round: 3\n",
      "Round: 4\n",
      "Round: 5\n",
      "Round: 6\n",
      "Round: 7\n",
      "Round: 8\n",
      "Round: 9\n"
     ]
    }
   ],
   "source": [
    "MAX_NUM_ROUNDS = 10\n",
    "tools = None\n",
    "tool_choice = None\n",
    "wrap_up_after = 4\n",
    "message_history = []\n",
    "num_rounds = 0\n",
    "\n",
    "while num_rounds < MAX_NUM_ROUNDS:\n",
    "    print(f'Round: {num_rounds}')\n",
    "    # we give customer a chance to early exit \n",
    "    # after some turns\n",
    "    if (num_rounds >= wrap_up_after):\n",
    "        tools = exit_tool\n",
    "        tool_choice = \"auto\"\n",
    "    \n",
    "    customer_message_history = [\n",
    "        {\"role\": \"system\", \"content\": CUSTOMER_PROMPT}\n",
    "    ] + message_history_converter(message_history)\n",
    "    \n",
    "    #print(tool_choice)\n",
    "    \n",
    "    response = client_openai.chat.completions.create(\n",
    "        model=model_name,\n",
    "        temperature=temperature,\n",
    "        top_p=top_p,\n",
    "        messages=customer_message_history,\n",
    "        tools=tools,\n",
    "        tool_choice=tool_choice,\n",
    "    )\n",
    "    customer_message = response.choices[0].message\n",
    "    \n",
    "    if customer_message.tool_calls is None:\n",
    "        message_history.append({\"role\": \"user\", \"content\": customer_message.content})\n",
    "    else:\n",
    "        #print('tool call')\n",
    "        if customer_message.content is not None:\n",
    "            message_history.append(\n",
    "                {\"role\": \"user\", \"content\": customer_message.content}\n",
    "            )\n",
    "        break\n",
    "\n",
    "    sales_rep_message_history = [\n",
    "        {\"role\": \"system\", \"content\": SALES_REP_PROMPT}\n",
    "    ] + message_history\n",
    "    \n",
    "    response = client_openai.chat.completions.create(\n",
    "        model=model_name,\n",
    "        temperature=temperature,\n",
    "        top_p=top_p,\n",
    "        messages=sales_rep_message_history,\n",
    "    )\n",
    "    sales_rep_message = response.choices[0].message\n",
    "    message_history.append({\"role\": \"assistant\", \"content\": sales_rep_message.content})\n",
    "    \n",
    "    num_rounds += 1"
   ]
  },
  {
   "cell_type": "code",
   "execution_count": 15,
   "id": "a458c9af-2ac3-48f0-b747-a1f17973a321",
   "metadata": {
    "scrolled": true
   },
   "outputs": [
    {
     "data": {
      "text/plain": [
       "[{'role': 'user', 'content': 'Hello!'},\n",
       " {'role': 'assistant', 'content': 'Hi there! How can I assist you today?'},\n",
       " {'role': 'user',\n",
       "  'content': \"I'm interested in buying the iPhone 14. Can you provide me with some information about it?\"},\n",
       " {'role': 'assistant',\n",
       "  'content': \"Absolutely! The iPhone 14 features a stunning Super Retina XDR display, great camera capabilities, and impressive performance with the A15 Bionic chip. It comes in different colors and storage options. Are there any specific features you're particularly interested in, like the camera or battery life?\"},\n",
       " {'role': 'user',\n",
       "  'content': \"I'm definitely interested in the camera features. What can you tell me about it?\"},\n",
       " {'role': 'assistant',\n",
       "  'content': \"The camera on the iPhone 14 is really impressive! It has a dual-camera system with a 12MP wide and 12MP ultra-wide lens. The low-light performance is enhanced thanks to the larger sensor and improved image stabilization, so you’ll get great shots even in dim conditions. There's also a Photonic Engine that processes images for better color and detail. Plus, it has features like Night mode, Deep Fusion, and Cinematic mode for videos, which allows you to create those gorgeous, blurred backgrounds. Are you planning to use it for photography or videography?\"},\n",
       " {'role': 'user',\n",
       "  'content': \"That sounds amazing! I'm planning to use it for both photography and videography. How's the battery life, though? I want to make sure it can last throughout the day.\"},\n",
       " {'role': 'assistant',\n",
       "  'content': 'Great choice! The iPhone 14 offers impressive battery life. You can expect up to 20 hours of talk time or up to 16 hours of internet use. It’s designed to easily last throughout the day, even with heavy use like photography and videography. Plus, it supports fast charging, so when you do need to recharge, you won’t have to wait long. Do you have any particular apps or activities in mind that you’ll be using it for?'},\n",
       " {'role': 'user',\n",
       "  'content': 'I mainly plan to use it for social media and video editing, so having a good battery life is definitely essential. What about the different colors and storage options available?'},\n",
       " {'role': 'assistant',\n",
       "  'content': \"Absolutely, having a good battery life is key for social media and video editing! As for colors, the iPhone 14 is available in a variety of stylish options, including Midnight, Starlight, Blue, Purple, and Product(RED). \\n\\nIn terms of storage, you can choose from 128GB, 256GB, and 512GB options, depending on how much you plan to store—like photos, videos, and apps. Do you have a color or storage option in mind that you're leaning towards?\"},\n",
       " {'role': 'user',\n",
       "  'content': 'I’m leaning towards the blue color and I think 256GB should be enough for my needs. Can you tell me the pricing for that configuration?'},\n",
       " {'role': 'assistant',\n",
       "  'content': 'Great choice! The blue color looks fantastic, and 256GB is a solid option for what you plan to do. The price for the iPhone 14 in 256GB typically starts around $1,099, but prices can vary a bit depending on any promotions or offers we have. Would you like to know about any financing options or trade-in deals that might be available?'},\n",
       " {'role': 'user',\n",
       "  'content': 'Yes, I’d love to hear about any financing options or trade-in deals available.'},\n",
       " {'role': 'assistant',\n",
       "  'content': 'Sure! For financing, we often have options that let you pay in monthly installments, making it more manageable. Depending on your credit approval, you could spread the cost over 24 months, which is handy for budgeting.\\n\\nAs for trade-in deals, if you have an eligible device, you could receive credit toward your new iPhone, which would lower the overall cost. The trade-in value depends on the model and condition of your current phone. Would you like to discuss what phone you might want to trade in?'},\n",
       " {'role': 'user',\n",
       "  'content': 'I do have an older iPhone I might want to trade in. How do I find out its trade-in value?'},\n",
       " {'role': 'assistant',\n",
       "  'content': \"You can find out the trade-in value of your older iPhone by using our online trade-in estimator on our website. It’s really simple! You just select the model and answer a few questions about its condition, and you'll get an estimated value. \\n\\nIf you prefer, you can also bring your device to the store, and we can assess it for you in person and give you the exact trade-in value right then and there. Which option sounds better for you?\"},\n",
       " {'role': 'user',\n",
       "  'content': 'I think I’ll check the online estimator first to get an idea of the trade-in value. Once I know more, I’ll decide whether to visit the store or not. \\n\\nBased on everything I’ve learned, I’m ready to make a decision. I would like to buy the iPhone 14 in blue with 256GB.'},\n",
       " {'role': 'assistant',\n",
       "  'content': \"That’s fantastic! You’re going to love the iPhone 14! If you're ready to purchase, you can order it online or visit one of our stores to complete the transaction. Do you need help with the ordering process, or would you like to confirm anything else before you make your purchase?\"}]"
      ]
     },
     "execution_count": 15,
     "metadata": {},
     "output_type": "execute_result"
    }
   ],
   "source": [
    "message_history"
   ]
  },
  {
   "cell_type": "code",
   "execution_count": 13,
   "id": "97807d53-4111-4b69-9944-0e1222ab5353",
   "metadata": {},
   "outputs": [],
   "source": [
    "fname = f\"conversation_{datetime.datetime.now().strftime('%Y-%m-%d-%H-%M-%S')}.json\"\n",
    "with open(fname, 'w') as ofile:\n",
    "    json.dump(message_history,ofile)"
   ]
  },
  {
   "cell_type": "code",
   "execution_count": null,
   "id": "449fb1ca-3129-4649-8c48-ad59276c45c4",
   "metadata": {},
   "outputs": [],
   "source": []
  },
  {
   "cell_type": "code",
   "execution_count": null,
   "id": "174a22c3-ef64-4db0-9901-ad3a06c2d5c6",
   "metadata": {},
   "outputs": [],
   "source": []
  },
  {
   "cell_type": "code",
   "execution_count": null,
   "id": "e2abccd6-8350-4dc1-814d-6c65e8f72c5f",
   "metadata": {},
   "outputs": [],
   "source": []
  }
 ],
 "metadata": {
  "kernelspec": {
   "display_name": "Python 3 (ipykernel)",
   "language": "python",
   "name": "python3"
  },
  "language_info": {
   "codemirror_mode": {
    "name": "ipython",
    "version": 3
   },
   "file_extension": ".py",
   "mimetype": "text/x-python",
   "name": "python",
   "nbconvert_exporter": "python",
   "pygments_lexer": "ipython3",
   "version": "3.10.16"
  }
 },
 "nbformat": 4,
 "nbformat_minor": 5
}
