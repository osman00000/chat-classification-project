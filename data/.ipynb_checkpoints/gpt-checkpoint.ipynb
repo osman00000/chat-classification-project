{
 "cells": [
  {
   "cell_type": "code",
   "execution_count": 1,
   "id": "d8c01b7c-6dbf-46d4-aa54-e814490684f0",
   "metadata": {},
   "outputs": [],
   "source": [
    "import os\n",
    "from openai import OpenAI"
   ]
  },
  {
   "cell_type": "code",
   "execution_count": 2,
   "id": "9c7acaee-4fa9-4ca7-b4ce-85c4af5a19a0",
   "metadata": {},
   "outputs": [],
   "source": [
    "import datetime\n",
    "import json"
   ]
  },
  {
   "cell_type": "code",
   "execution_count": 4,
   "id": "9e5ede84-ac3d-434e-af88-ce442554f360",
   "metadata": {
    "tags": []
   },
   "outputs": [],
   "source": [
    "# KEY NEEDS TO BE DEFINED AS AN ENV\n",
    "# OR DEFINE IT HERE\n",
    "# OPENAI_API_KEY = \"KEY HERE\"\n",
    "# os.environ[\"OPENAI_API_KEY\"] = OPENAI_API_KEY"
   ]
  },
  {
   "cell_type": "code",
   "execution_count": 3,
   "id": "b92cba4a-200c-464a-8350-b6afc395187d",
   "metadata": {
    "tags": []
   },
   "outputs": [
    {
     "ename": "OpenAIError",
     "evalue": "The api_key client option must be set either by passing api_key to the client or by setting the OPENAI_API_KEY environment variable",
     "output_type": "error",
     "traceback": [
      "\u001b[0;31m---------------------------------------------------------------------------\u001b[0m",
      "\u001b[0;31mOpenAIError\u001b[0m                               Traceback (most recent call last)",
      "Cell \u001b[0;32mIn[3], line 1\u001b[0m\n\u001b[0;32m----> 1\u001b[0m client_openai \u001b[38;5;241m=\u001b[39m \u001b[43mOpenAI\u001b[49m\u001b[43m(\u001b[49m\u001b[43m)\u001b[49m\n",
      "File \u001b[0;32m~/opt/miniforge3/envs/mlearn3.10/lib/python3.10/site-packages/openai/_client.py:101\u001b[0m, in \u001b[0;36mOpenAI.__init__\u001b[0;34m(self, api_key, organization, project, base_url, timeout, max_retries, default_headers, default_query, http_client, _strict_response_validation)\u001b[0m\n\u001b[1;32m     99\u001b[0m     api_key \u001b[38;5;241m=\u001b[39m os\u001b[38;5;241m.\u001b[39menviron\u001b[38;5;241m.\u001b[39mget(\u001b[38;5;124m\"\u001b[39m\u001b[38;5;124mOPENAI_API_KEY\u001b[39m\u001b[38;5;124m\"\u001b[39m)\n\u001b[1;32m    100\u001b[0m \u001b[38;5;28;01mif\u001b[39;00m api_key \u001b[38;5;129;01mis\u001b[39;00m \u001b[38;5;28;01mNone\u001b[39;00m:\n\u001b[0;32m--> 101\u001b[0m     \u001b[38;5;28;01mraise\u001b[39;00m OpenAIError(\n\u001b[1;32m    102\u001b[0m         \u001b[38;5;124m\"\u001b[39m\u001b[38;5;124mThe api_key client option must be set either by passing api_key to the client or by setting the OPENAI_API_KEY environment variable\u001b[39m\u001b[38;5;124m\"\u001b[39m\n\u001b[1;32m    103\u001b[0m     )\n\u001b[1;32m    104\u001b[0m \u001b[38;5;28mself\u001b[39m\u001b[38;5;241m.\u001b[39mapi_key \u001b[38;5;241m=\u001b[39m api_key\n\u001b[1;32m    106\u001b[0m \u001b[38;5;28;01mif\u001b[39;00m organization \u001b[38;5;129;01mis\u001b[39;00m \u001b[38;5;28;01mNone\u001b[39;00m:\n",
      "\u001b[0;31mOpenAIError\u001b[0m: The api_key client option must be set either by passing api_key to the client or by setting the OPENAI_API_KEY environment variable"
     ]
    }
   ],
   "source": [
    "client_openai = OpenAI()"
   ]
  },
  {
   "cell_type": "code",
   "execution_count": 4,
   "id": "20d4dd7d-1972-46d7-a3b9-1a10f6437e61",
   "metadata": {
    "tags": []
   },
   "outputs": [],
   "source": [
    "from httpx import ConnectTimeout, Timeout\n",
    "NUM_TRIES = 3\n",
    "TIMEOUT = 20\n",
    "\n",
    "\n",
    "def llm_wrapper(\n",
    "    model_name, \n",
    "    messages,\n",
    "    response_format=None\n",
    "):\n",
    "\n",
    "    n = 1\n",
    "    while n<NUM_TRIES:\n",
    "        try:\n",
    "\n",
    "            # messages = [\n",
    "            #     {'role': 'system', 'content': system_prompt},\n",
    "            #     {'role': 'user', 'content': user_message},\n",
    "            # ]\n",
    "            response = client_openai.beta.chat.completions.parse(\n",
    "                model=model_name,\n",
    "                temperature=1.,\n",
    "                top_p=1.,\n",
    "                messages=messages,\n",
    "                response_format=response_format\n",
    "            )    \n",
    "\n",
    "            if response_format is None:\n",
    "                return response.choices[0].message.content #, prompt_tokens, completion_tokens\n",
    "            else:\n",
    "                return response.choices[0].message.parsed.json()\n",
    "        except ConnectTimeout:\n",
    "            n += 1\n",
    "    \n",
    "    raise Exception(f\"Couldn't get response from OpenAI in {NUM_TRIES} trials!\")"
   ]
  },
  {
   "cell_type": "code",
   "execution_count": null,
   "id": "e9e49dfc-7a98-4e79-a8cb-1ffab5acbfac",
   "metadata": {},
   "outputs": [],
   "source": []
  },
  {
   "cell_type": "raw",
   "id": "d4de6a9a-92cc-42c9-b1cc-f5708ec4ef56",
   "metadata": {
    "tags": []
   },
   "source": [
    "pydantic_classes = [exit_conversation]\n",
    "exit_tool = [convert_to_openai_function_desc(pc) for pc in pydantic_classes]"
   ]
  },
  {
   "cell_type": "code",
   "execution_count": 21,
   "id": "2c19ee48-d746-48f1-9404-3723f61c6186",
   "metadata": {
    "tags": []
   },
   "outputs": [],
   "source": [
    "CUSTOMER_PROMPT_BASE = \"\"\"You are a Customer who will converse with a Sales Rep.\n",
    "You are looking to buy the product {product_name}.\n",
    "\n",
    "FOLLOW THESE INSTRUCTIONS DURING THE CONVERSATION:\n",
    "- Initially just Greet the sales rep.\n",
    "- Then state your intent and gradually ask questions to make a decision to buy.\n",
    "- After you think you get the adequate information you can proceed to buy the product or not.\n",
    "- YOU ARE THE CUSTOMER NOT THE SALES REP.\n",
    "\"\"\"\n",
    "\n",
    "SALES_REP_PROMPT_BASE = \"\"\"You are a Sales Rep helping customers about their questions.\n",
    "\n",
    "FOLLOW THESE INSTRUCTIONS DURING THE CONVERSATION:\n",
    "- You are helpful.\n",
    "- You simulate spoken conversation. Do not generate structured text.\n",
    "- YOU ARE THE SALES REP NOT THE CUSTOMER.\n",
    "\"\"\"\n"
   ]
  },
  {
   "cell_type": "code",
   "execution_count": 22,
   "id": "41012f66-61cf-482d-aba0-8035bf96358d",
   "metadata": {
    "tags": []
   },
   "outputs": [],
   "source": [
    "exit_tool = [\n",
    "  {\n",
    "      \"type\": \"function\",\n",
    "      \"function\": {\n",
    "          \"name\": \"buy_decision\",\n",
    "          \"description\": \"Call this function when you think you have gained all information you need from the conversation and would like to buy or not.\",\n",
    "          \"parameters\": {\n",
    "              \"type\": \"object\",\n",
    "              \"properties\": {\n",
    "                 \"decision\": {\n",
    "                    \"enum\": [\"buy\", \"not_buy\"],\n",
    "                    \"type\": \"string\",\n",
    "                    \"description\": \"you decision about the product\",\n",
    "                },\n",
    "              },\n",
    "              \"required\": [\"decision\"],\n",
    "              \"additionalProperties\": False,\n",
    "          },\n",
    "      }\n",
    "  }\n",
    "]"
   ]
  },
  {
   "cell_type": "code",
   "execution_count": 23,
   "id": "cf57407c-7531-4fdb-9c25-fe08074708c7",
   "metadata": {
    "tags": []
   },
   "outputs": [],
   "source": [
    "def message_history_converter(message_history):\n",
    "    converted_history = []\n",
    "    for m in message_history:\n",
    "        if m[\"role\"] != \"system\":\n",
    "            converted_history.append(\n",
    "                {\n",
    "                    \"role\": \"user\" if m[\"role\"] == \"assistant\" else \"assistant\",\n",
    "                    \"content\": m[\"content\"],\n",
    "                }\n",
    "            )\n",
    "    return converted_history"
   ]
  },
  {
   "cell_type": "code",
   "execution_count": 24,
   "id": "c602d905-8418-4057-90c5-265982b91248",
   "metadata": {
    "tags": []
   },
   "outputs": [],
   "source": [
    "model_name = 'gpt-4o-mini'\n",
    "temperature = 1.0\n",
    "top_p=1.0"
   ]
  },
  {
   "cell_type": "code",
   "execution_count": 25,
   "id": "761e4ca9-591b-448d-9ab6-3ad651dd565c",
   "metadata": {},
   "outputs": [],
   "source": [
    "# Prompt customization\n",
    "PRODUCT_NAME = \"iphone 14\"\n",
    "CUSTOMER_PROMPT = CUSTOMER_PROMPT_BASE.format(product_name=PRODUCT_NAME)\n",
    "SALES_REP_PROMPT = SALES_REP_PROMPT_BASE"
   ]
  },
  {
   "cell_type": "code",
   "execution_count": 26,
   "id": "2c7d9f4f-b089-41f6-9cbe-0774011d6185",
   "metadata": {
    "tags": []
   },
   "outputs": [
    {
     "name": "stdout",
     "output_type": "stream",
     "text": [
      "Round: 0\n",
      "Round: 1\n",
      "Round: 2\n",
      "Round: 3\n",
      "Round: 4\n",
      "Round: 5\n",
      "Round: 6\n",
      "Round: 7\n"
     ]
    }
   ],
   "source": [
    "MAX_NUM_ROUNDS = 10\n",
    "tools = None\n",
    "tool_choice = None\n",
    "wrap_up_after = 4\n",
    "message_history = []\n",
    "num_rounds = 0\n",
    "\n",
    "while num_rounds < MAX_NUM_ROUNDS:\n",
    "    print(f'Round: {num_rounds}')\n",
    "    # we give customer a chance to early exit \n",
    "    # after some turns\n",
    "    if (num_rounds >= wrap_up_after):\n",
    "        tools = exit_tool\n",
    "        tool_choice = \"auto\"\n",
    "    \n",
    "    customer_message_history = [\n",
    "        {\"role\": \"system\", \"content\": CUSTOMER_PROMPT}\n",
    "    ] + message_history_converter(message_history)\n",
    "    \n",
    "    #print(tool_choice)\n",
    "    \n",
    "    response = client_openai.chat.completions.create(\n",
    "        model=model_name,\n",
    "        temperature=temperature,\n",
    "        top_p=top_p,\n",
    "        messages=customer_message_history,\n",
    "        tools=tools,\n",
    "        tool_choice=tool_choice,\n",
    "    )\n",
    "    customer_message = response.choices[0].message\n",
    "    \n",
    "    if customer_message.tool_calls is None:\n",
    "        message_history.append({\"role\": \"user\", \"content\": customer_message.content})\n",
    "    else:\n",
    "        #print('tool call')\n",
    "        if customer_message.content is not None:\n",
    "            message_history.append(\n",
    "                {\"role\": \"user\", \"content\": customer_message.content}\n",
    "            )\n",
    "        break\n",
    "\n",
    "    sales_rep_message_history = [\n",
    "        {\"role\": \"system\", \"content\": SALES_REP_PROMPT}\n",
    "    ] + message_history\n",
    "    \n",
    "    response = client_openai.chat.completions.create(\n",
    "        model=model_name,\n",
    "        temperature=temperature,\n",
    "        top_p=top_p,\n",
    "        messages=sales_rep_message_history,\n",
    "    )\n",
    "    sales_rep_message = response.choices[0].message\n",
    "    message_history.append({\"role\": \"assistant\", \"content\": sales_rep_message.content})\n",
    "    \n",
    "    num_rounds += 1"
   ]
  },
  {
   "cell_type": "code",
   "execution_count": 29,
   "id": "a458c9af-2ac3-48f0-b747-a1f17973a321",
   "metadata": {
    "scrolled": true
   },
   "outputs": [
    {
     "data": {
      "text/plain": [
       "[{'role': 'user', 'content': 'Hello! How are you doing today?'},\n",
       " {'role': 'assistant',\n",
       "  'content': \"Hi there! I'm doing great, thanks for asking. How about you? How can I help you today?\"},\n",
       " {'role': 'user',\n",
       "  'content': \"I'm doing well, thank you! I'm interested in purchasing the iPhone 14 and would like to ask a few questions about it. Could you provide some details?\"},\n",
       " {'role': 'assistant',\n",
       "  'content': \"Absolutely! The iPhone 14 is a fantastic choice. It features a beautiful Super Retina XDR display, impressive camera capabilities, and powerful performance with the A15 Bionic chip. Are there any specific features you're curious about, like the camera, battery life, or storage options?\"},\n",
       " {'role': 'user',\n",
       "  'content': \"Great! I'm particularly interested in the camera features. What can you tell me about it?\"},\n",
       " {'role': 'assistant',\n",
       "  'content': 'The iPhone 14 has a remarkable dual-camera system. It includes a 12MP wide camera and a 12MP ultra-wide camera, allowing you to capture stunning photos with vibrant colors and impressive detail. One standout feature is the Night mode, which really helps in low-light conditions, making your night shots look amazing. Plus, it offers Photonic Engine for enhanced image processing, so everything looks sharp and clear.\\n\\nThere’s also Cinematic mode for videos, which lets you create movie-like depth-of-field effects. Are you planning to use it for photography or perhaps some video recording?'},\n",
       " {'role': 'user',\n",
       "  'content': \"That's impressive! I'm definitely interested in both photography and video recording. Could you also tell me a bit about the battery life? How long does it typically last?\"},\n",
       " {'role': 'assistant',\n",
       "  'content': 'Sure! The iPhone 14 offers great battery life—typically up to 20 hours of talk time or about 16 hours of internet usage. Of course, actual usage can vary based on how you’re using the phone, like if you’re streaming videos or using GPS. \\n\\nIt also supports fast charging, so you can get a good amount of charge in a short time, and it’s compatible with MagSafe and Qi wireless charging as well. That means you have options for keeping your battery topped up. Does that sound like it would work for your needs?'},\n",
       " {'role': 'user',\n",
       "  'content': 'Yes, that sounds perfect! One more thing I’d like to know is about the storage options available. What storage capacities does the iPhone 14 come with?'},\n",
       " {'role': 'assistant',\n",
       "  'content': 'The iPhone 14 comes in several storage options to fit your needs! You can choose from 128GB, 256GB, and 512GB. The 128GB option is great for everyday use, while the higher capacities are perfect if you plan to store a lot of photos, videos, or apps. \\n\\nDo you have a sense of how much storage you might need?'},\n",
       " {'role': 'user',\n",
       "  'content': 'I think I would need at least 256GB, considering my usage for photos and videos. Can you also let me know about the available colors?'},\n",
       " {'role': 'assistant',\n",
       "  'content': 'Absolutely! The iPhone 14 comes in some stylish colors. You can choose from Midnight, Starlight, Blue, Purple, and Product(RED). Each color has its own unique look, so you can pick one that suits your style. Do any of these colors grab your attention?'},\n",
       " {'role': 'user',\n",
       "  'content': \"I really like the Blue color! It sounds like it matches what I'm looking for. I feel ready to make a decision now. I would like to go ahead and purchase the iPhone 14 in 256GB storage and Blue color.\"},\n",
       " {'role': 'assistant',\n",
       "  'content': 'That’s a great choice! The Blue looks fantastic. To proceed with your purchase, I can help you with the payment options and any additional accessories you might need, like a case or screen protector. How would you like to finalize the order?'}]"
      ]
     },
     "execution_count": 29,
     "metadata": {},
     "output_type": "execute_result"
    }
   ],
   "source": [
    "message_history"
   ]
  },
  {
   "cell_type": "code",
   "execution_count": 41,
   "id": "97807d53-4111-4b69-9944-0e1222ab5353",
   "metadata": {},
   "outputs": [],
   "source": [
    "fname = f\"conversation_{datetime.datetime.now().strftime('%Y-%m-%d-%H-%M-%S')}.json\"\n",
    "with open(fname, 'w') as ofile:\n",
    "    json.dump(message_history,ofile)"
   ]
  },
  {
   "cell_type": "code",
   "execution_count": null,
   "id": "449fb1ca-3129-4649-8c48-ad59276c45c4",
   "metadata": {},
   "outputs": [],
   "source": []
  },
  {
   "cell_type": "code",
   "execution_count": null,
   "id": "174a22c3-ef64-4db0-9901-ad3a06c2d5c6",
   "metadata": {},
   "outputs": [],
   "source": []
  },
  {
   "cell_type": "code",
   "execution_count": null,
   "id": "e2abccd6-8350-4dc1-814d-6c65e8f72c5f",
   "metadata": {},
   "outputs": [],
   "source": []
  }
 ],
 "metadata": {
  "kernelspec": {
   "display_name": "Python 3 (ipykernel)",
   "language": "python",
   "name": "python3"
  },
  "language_info": {
   "codemirror_mode": {
    "name": "ipython",
    "version": 3
   },
   "file_extension": ".py",
   "mimetype": "text/x-python",
   "name": "python",
   "nbconvert_exporter": "python",
   "pygments_lexer": "ipython3",
   "version": "3.10.16"
  }
 },
 "nbformat": 4,
 "nbformat_minor": 5
}
